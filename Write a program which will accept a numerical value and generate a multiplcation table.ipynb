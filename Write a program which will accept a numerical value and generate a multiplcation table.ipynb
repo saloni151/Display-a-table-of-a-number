{
 "cells": [
  {
   "cell_type": "code",
   "execution_count": 1,
   "id": "c62dcfbe",
   "metadata": {},
   "outputs": [
    {
     "data": {
      "text/plain": [
       "'Write a program which will accept a numerical value and generate a multiplcation table'"
      ]
     },
     "execution_count": 1,
     "metadata": {},
     "output_type": "execute_result"
    }
   ],
   "source": [
    "\"\"\"Write a program which will accept a numerical value and generate a multiplcation table\"\"\""
   ]
  },
  {
   "cell_type": "code",
   "execution_count": 2,
   "id": "fc6dec4d",
   "metadata": {},
   "outputs": [
    {
     "name": "stdout",
     "output_type": "stream",
     "text": [
      "Enter the number whose table you want to display:5\n"
     ]
    }
   ],
   "source": [
    "n=int(input(\"Enter the number whose table you want to display:\"))"
   ]
  },
  {
   "cell_type": "code",
   "execution_count": 3,
   "id": "3ea30e4b",
   "metadata": {},
   "outputs": [
    {
     "name": "stdout",
     "output_type": "stream",
     "text": [
      "\t the table of 5 x 1 = 5\n",
      "\t the table of 5 x 2 = 10\n",
      "\t the table of 5 x 3 = 15\n",
      "\t the table of 5 x 4 = 20\n",
      "\t the table of 5 x 5 = 25\n",
      "\t the table of 5 x 6 = 30\n",
      "\t the table of 5 x 7 = 35\n",
      "\t the table of 5 x 8 = 40\n",
      "\t the table of 5 x 9 = 45\n",
      "\t the table of 5 x 10 = 50\n"
     ]
    }
   ],
   "source": [
    "if(n<=0):\n",
    "    print(\"The given value {} is invalid\".format(n))\n",
    "else:\n",
    "    i=1\n",
    "    while(i<=10):\n",
    "         print(\"\\t the table of {} x {} = {}\".format(n,i,n*i))\n",
    "         i=i+1\n",
    "       "
   ]
  },
  {
   "cell_type": "code",
   "execution_count": null,
   "id": "52707c85",
   "metadata": {},
   "outputs": [],
   "source": []
  },
  {
   "cell_type": "code",
   "execution_count": null,
   "id": "eda40637",
   "metadata": {},
   "outputs": [],
   "source": []
  },
  {
   "cell_type": "code",
   "execution_count": null,
   "id": "a556524d",
   "metadata": {},
   "outputs": [],
   "source": []
  },
  {
   "cell_type": "code",
   "execution_count": null,
   "id": "d1593a3e",
   "metadata": {},
   "outputs": [],
   "source": []
  },
  {
   "cell_type": "code",
   "execution_count": null,
   "id": "0c630d4b",
   "metadata": {},
   "outputs": [],
   "source": []
  },
  {
   "cell_type": "code",
   "execution_count": null,
   "id": "34326660",
   "metadata": {},
   "outputs": [],
   "source": []
  },
  {
   "cell_type": "code",
   "execution_count": null,
   "id": "2178c27c",
   "metadata": {},
   "outputs": [],
   "source": []
  }
 ],
 "metadata": {
  "kernelspec": {
   "display_name": "Python 3 (ipykernel)",
   "language": "python",
   "name": "python3"
  },
  "language_info": {
   "codemirror_mode": {
    "name": "ipython",
    "version": 3
   },
   "file_extension": ".py",
   "mimetype": "text/x-python",
   "name": "python",
   "nbconvert_exporter": "python",
   "pygments_lexer": "ipython3",
   "version": "3.10.9"
  }
 },
 "nbformat": 4,
 "nbformat_minor": 5
}
